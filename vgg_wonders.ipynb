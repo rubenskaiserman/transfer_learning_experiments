{
 "cells": [
  {
   "cell_type": "code",
   "execution_count": 30,
   "metadata": {
    "executionInfo": {
     "elapsed": 17028,
     "status": "ok",
     "timestamp": 1730660851857,
     "user": {
      "displayName": "Rubens Kaiserman",
      "userId": "17962754371974246128"
     },
     "user_tz": 180
    },
    "id": "7YVukWdf6BvP"
   },
   "outputs": [],
   "source": [
    "import torch\n",
    "import torchvision\n",
    "import torch.nn as nn\n",
    "import torch.nn.functional as F\n",
    "from torchvision import transforms,models,datasets\n",
    "import matplotlib.pyplot as plt\n",
    "from PIL import Image\n",
    "from torch import optim\n",
    "device = 'cuda' if torch.cuda.is_available() else 'cpu'\n",
    "import cv2, glob, numpy as np, pandas as pd\n",
    "from glob import glob\n",
    "import torchvision.transforms as transforms\n",
    "from torch.utils.data import DataLoader, Dataset\n",
    "\n",
    "import os\n",
    "import random"
   ]
  },
  {
   "cell_type": "code",
   "execution_count": 31,
   "metadata": {
    "executionInfo": {
     "elapsed": 2831,
     "status": "ok",
     "timestamp": 1730660854678,
     "user": {
      "displayName": "Rubens Kaiserman",
      "userId": "17962754371974246128"
     },
     "user_tz": 180
    },
    "id": "ZY7P71rt6fzY"
   },
   "outputs": [],
   "source": [
    "# !pip install -q kaggle\n",
    "# from google.colab import files"
   ]
  },
  {
   "cell_type": "code",
   "execution_count": 32,
   "metadata": {
    "colab": {
     "base_uri": "https://localhost:8080/"
    },
    "collapsed": true,
    "executionInfo": {
     "elapsed": 21486,
     "status": "ok",
     "timestamp": 1730660876153,
     "user": {
      "displayName": "Rubens Kaiserman",
      "userId": "17962754371974246128"
     },
     "user_tz": 180
    },
    "id": "98RjTyG76kKA",
    "outputId": "fc412675-f640-4547-abf9-0ff0f04f8cc8"
   },
   "outputs": [],
   "source": [
    "# !kaggle datasets download -d balabaskar/wonders-of-the-world-image-classification\n",
    "# !unzip wonders-of-the-world-image-classification.zip"
   ]
  },
  {
   "cell_type": "code",
   "execution_count": 33,
   "metadata": {
    "executionInfo": {
     "elapsed": 12,
     "status": "ok",
     "timestamp": 1730660876154,
     "user": {
      "displayName": "Rubens Kaiserman",
      "userId": "17962754371974246128"
     },
     "user_tz": 180
    },
    "id": "zmbewE0n-XwS"
   },
   "outputs": [],
   "source": [
    "burj_khalifa = glob('Wonders of World/Wonders of World/burj_khalifa/*.jpg')\n",
    "chichen_itza = glob('Wonders of World/Wonders of World/chichen_itza/*.jpg')\n",
    "christ_the_reedemer = glob('Wonders of World/Wonders of World/christ_the_reedemer/*.jpg')\n",
    "eiffel_tower = glob('Wonders of World/Wonders of World/eiffel_tower/*.jpg')\n",
    "great_wall_of_china = glob('Wonders of World/Wonders of World/great_wall_of_china/*.jpg')\n",
    "machu_pichu = glob('Wonders of World/Wonders of World/machu_pichu/*.jpg')\n",
    "pyramids_of_giza = glob('Wonders of World/Wonders of World/pyramids_of_giza/*.jpg')\n",
    "roman_colosseum = glob('Wonders of World/Wonders of World/roman_colosseum/*.jpg')\n",
    "statue_of_liberty = glob('Wonders of World/Wonders of World/statue_of_liberty/*.jpg')\n",
    "stonehenge = glob('Wonders of World/Wonders of World/stonehenge/*.jpg')\n",
    "taj_mahal = glob('Wonders of World/Wonders of World/taj_mahal/*.jpg')\n",
    "venezuela_angel_falls = glob('Wonders of World/Wonders of World/venezuela_angel_falls/*.jpg')\n",
    "\n",
    "all_data = [burj_khalifa, chichen_itza, christ_the_reedemer, eiffel_tower, great_wall_of_china, machu_pichu, pyramids_of_giza, roman_colosseum, statue_of_liberty, stonehenge, taj_mahal, venezuela_angel_falls]\n",
    "\n",
    "train_data = []\n",
    "test_data = []\n",
    "for data in all_data:\n",
    "    train_data += data[:int(len(data)*0.8)]\n",
    "    test_data += data[int(len(data)*0.8):]\n"
   ]
  },
  {
   "cell_type": "code",
   "execution_count": 34,
   "metadata": {
    "executionInfo": {
     "elapsed": 10,
     "status": "ok",
     "timestamp": 1730660876154,
     "user": {
      "displayName": "Rubens Kaiserman",
      "userId": "17962754371974246128"
     },
     "user_tz": 180
    },
    "id": "w_E11Yty7KZK"
   },
   "outputs": [],
   "source": [
    "class Wonders(Dataset):\n",
    "  def __init__(self, data):\n",
    "    target_index = [\n",
    "        'burj_khalifa',\n",
    "        'chichen_itza',\n",
    "        'christ_the_reedemer',\n",
    "        'eiffel_tower',\n",
    "        'great_wall_of_china',\n",
    "        'machu_pichu',\n",
    "        'pyramids_of_giza',\n",
    "        'roman_colosseum',\n",
    "        'statue_of_liberty',\n",
    "        'stonehenge',\n",
    "        'taj_mahal',\n",
    "        'venezuela_angel_falls',\n",
    "    ]\n",
    "\n",
    "    self.data = data\n",
    "\n",
    "    self.fpaths = [fpath for fpath in data]\n",
    "\n",
    "    self.normalize = transforms.Normalize(mean=[0.485,\n",
    "    0.456, 0.406],std=[0.229, 0.224, 0.225])\n",
    "\n",
    "    from random import shuffle, seed; seed(10);\n",
    "    shuffle(self.fpaths)\n",
    "\n",
    "    self.targets = [np.zeros(12) for _ in range(len(self.fpaths))]\n",
    "\n",
    "    for i in range(len(self.targets)):\n",
    "        self.targets[i][target_index.index(self.fpaths[i].split('/')[-2])] = 1\n",
    "\n",
    "  def __len__(self): return len(self.fpaths)\n",
    "\n",
    "  def __getitem__(self, ix):\n",
    "    f = self.fpaths[ix]\n",
    "    target = self.targets[ix]\n",
    "    im = (cv2.imread(f)[:,:,::-1])\n",
    "    im = cv2.resize(im, (224,224))\n",
    "    im = torch.tensor(im/255)\n",
    "    im = im.permute(2,0,1)\n",
    "    im = self.normalize(im)\n",
    "    return (\n",
    "      im.float().to(device),\n",
    "      torch.tensor(target).float().to(device)\n",
    "    )"
   ]
  },
  {
   "cell_type": "code",
   "execution_count": 35,
   "metadata": {
    "colab": {
     "base_uri": "https://localhost:8080/",
     "height": 0
    },
    "executionInfo": {
     "elapsed": 1997,
     "status": "ok",
     "timestamp": 1730660878142,
     "user": {
      "displayName": "Rubens Kaiserman",
      "userId": "17962754371974246128"
     },
     "user_tz": 180
    },
    "id": "c4O0b34ZENUB",
    "outputId": "a7082c16-ed23-4c40-cf3d-49cc52047564"
   },
   "outputs": [
    {
     "name": "stderr",
     "output_type": "stream",
     "text": [
      "Clipping input data to the valid range for imshow with RGB data ([0..1] for floats or [0..255] for integers). Got range [-2.0836544..2.64].\n"
     ]
    },
    {
     "name": "stdout",
     "output_type": "stream",
     "text": [
      "tensor([0., 0., 0., 0., 0., 0., 0., 0., 0., 0., 0., 1.], device='cuda:0')\n"
     ]
    },
    {
     "data": {
      "image/png": "[encoded data removed]",
      "text/plain": [
       "<Figure size 640x480 with 1 Axes>"
      ]
     },
     "metadata": {},
     "output_type": "display_data"
    }
   ],
   "source": [
    "data = Wonders(data)\n",
    "im, label = data[70]\n",
    "plt.imshow(im.permute(1,2,0).cpu())\n",
    "print(label)"
   ]
  },
  {
   "cell_type": "code",
   "execution_count": 36,
   "metadata": {
    "executionInfo": {
     "elapsed": 18,
     "status": "ok",
     "timestamp": 1730660878145,
     "user": {
      "displayName": "Rubens Kaiserman",
      "userId": "17962754371974246128"
     },
     "user_tz": 180
    },
    "id": "KVVnBGfWNtBP"
   },
   "outputs": [],
   "source": [
    "def get_model():\n",
    "    model = models.vgg16(pretrained=True)\n",
    "    for param in model.parameters():\n",
    "        param.requires_grad = False\n",
    "\n",
    "    # Modify the avgpool layer\n",
    "    model.avgpool = nn.AdaptiveAvgPool2d(output_size=(1, 1))\n",
    "    \n",
    "    # Modify the fully connected layer\n",
    "    model.classifier = nn.Sequential(\n",
    "        nn.Flatten(),\n",
    "        nn.Linear(512, 128),\n",
    "        nn.ReLU(),\n",
    "        nn.Dropout(0.2),\n",
    "        nn.Linear(128, 12),\n",
    "        nn.Softmax(dim=1)  # Softmax layer for output\n",
    "    )\n",
    "    \n",
    "    loss_fn = nn.CrossEntropyLoss()\n",
    "    parameter = model.parameters()\n",
    "    optimizer = optim.Adam(parameter, lr=1e-3)\n",
    "    \n",
    "    return model.to(device), loss_fn, optimizer"
   ]
  },
  {
   "cell_type": "code",
   "execution_count": 37,
   "metadata": {
    "colab": {
     "base_uri": "https://localhost:8080/"
    },
    "executionInfo": {
     "elapsed": 16847,
     "status": "ok",
     "timestamp": 1730660894975,
     "user": {
      "displayName": "Rubens Kaiserman",
      "userId": "17962754371974246128"
     },
     "user_tz": 180
    },
    "id": "qwdZYXecNzh0",
    "outputId": "95a96933-5c46-4644-e41e-c0b0ad9e5cf9"
   },
   "outputs": [
    {
     "name": "stdout",
     "output_type": "stream",
     "text": [
      "/bin/bash: line 1: /home/kaiserman/ML/transfer_learning_experiments/venv/bin/pip: cannot execute: required file not found\n"
     ]
    },
    {
     "name": "stderr",
     "output_type": "stream",
     "text": [
      "/home/kaiserman/ML/transfer_learning_experiments/venv/lib/python3.12/site-packages/torchvision/models/_utils.py:208: UserWarning: The parameter 'pretrained' is deprecated since 0.13 and may be removed in the future, please use 'weights' instead.\n",
      "  warnings.warn(\n",
      "/home/kaiserman/ML/transfer_learning_experiments/venv/lib/python3.12/site-packages/torchvision/models/_utils.py:223: UserWarning: Arguments other than a weight enum or `None` for 'weights' are deprecated since 0.13 and may be removed in the future. The current behavior is equivalent to passing `weights=VGG16_Weights.IMAGENET1K_V1`. You can also use `weights=VGG16_Weights.DEFAULT` to get the most up-to-date weights.\n",
      "  warnings.warn(msg)\n"
     ]
    },
    {
     "name": "stdout",
     "output_type": "stream",
     "text": [
      "==========================================================================================\n",
      "Layer (type:depth-idx)                   Output Shape              Param #\n",
      "==========================================================================================\n",
      "├─Sequential: 1-1                        [-1, 512, 7, 7]           --\n",
      "|    └─Conv2d: 2-1                       [-1, 64, 224, 224]        (1,792)\n",
      "|    └─ReLU: 2-2                         [-1, 64, 224, 224]        --\n",
      "|    └─Conv2d: 2-3                       [-1, 64, 224, 224]        (36,928)\n",
      "|    └─ReLU: 2-4                         [-1, 64, 224, 224]        --\n",
      "|    └─MaxPool2d: 2-5                    [-1, 64, 112, 112]        --\n",
      "|    └─Conv2d: 2-6                       [-1, 128, 112, 112]       (73,856)\n",
      "|    └─ReLU: 2-7                         [-1, 128, 112, 112]       --\n",
      "|    └─Conv2d: 2-8                       [-1, 128, 112, 112]       (147,584)\n",
      "|    └─ReLU: 2-9                         [-1, 128, 112, 112]       --\n",
      "|    └─MaxPool2d: 2-10                   [-1, 128, 56, 56]         --\n",
      "|    └─Conv2d: 2-11                      [-1, 256, 56, 56]         (295,168)\n",
      "|    └─ReLU: 2-12                        [-1, 256, 56, 56]         --\n",
      "|    └─Conv2d: 2-13                      [-1, 256, 56, 56]         (590,080)\n",
      "|    └─ReLU: 2-14                        [-1, 256, 56, 56]         --\n",
      "|    └─Conv2d: 2-15                      [-1, 256, 56, 56]         (590,080)\n",
      "|    └─ReLU: 2-16                        [-1, 256, 56, 56]         --\n",
      "|    └─MaxPool2d: 2-17                   [-1, 256, 28, 28]         --\n",
      "|    └─Conv2d: 2-18                      [-1, 512, 28, 28]         (1,180,160)\n",
      "|    └─ReLU: 2-19                        [-1, 512, 28, 28]         --\n",
      "|    └─Conv2d: 2-20                      [-1, 512, 28, 28]         (2,359,808)\n",
      "|    └─ReLU: 2-21                        [-1, 512, 28, 28]         --\n",
      "|    └─Conv2d: 2-22                      [-1, 512, 28, 28]         (2,359,808)\n",
      "|    └─ReLU: 2-23                        [-1, 512, 28, 28]         --\n",
      "|    └─MaxPool2d: 2-24                   [-1, 512, 14, 14]         --\n",
      "|    └─Conv2d: 2-25                      [-1, 512, 14, 14]         (2,359,808)\n",
      "|    └─ReLU: 2-26                        [-1, 512, 14, 14]         --\n",
      "|    └─Conv2d: 2-27                      [-1, 512, 14, 14]         (2,359,808)\n",
      "|    └─ReLU: 2-28                        [-1, 512, 14, 14]         --\n",
      "|    └─Conv2d: 2-29                      [-1, 512, 14, 14]         (2,359,808)\n",
      "|    └─ReLU: 2-30                        [-1, 512, 14, 14]         --\n",
      "|    └─MaxPool2d: 2-31                   [-1, 512, 7, 7]           --\n",
      "├─AdaptiveAvgPool2d: 1-2                 [-1, 512, 1, 1]           --\n",
      "├─Sequential: 1-3                        [-1, 12]                  --\n",
      "|    └─Flatten: 2-32                     [-1, 512]                 --\n",
      "|    └─Linear: 2-33                      [-1, 128]                 65,664\n",
      "|    └─ReLU: 2-34                        [-1, 128]                 --\n",
      "|    └─Dropout: 2-35                     [-1, 128]                 --\n",
      "|    └─Linear: 2-36                      [-1, 12]                  1,548\n",
      "|    └─Softmax: 2-37                     [-1, 12]                  --\n",
      "==========================================================================================\n",
      "Total params: 14,781,900\n",
      "Trainable params: 67,212\n",
      "Non-trainable params: 14,714,688\n",
      "Total mult-adds (G): 15.36\n",
      "==========================================================================================\n",
      "Input size (MB): 0.57\n",
      "Forward/backward pass size (MB): 103.36\n",
      "Params size (MB): 56.39\n",
      "Estimated Total Size (MB): 160.32\n",
      "==========================================================================================\n"
     ]
    },
    {
     "data": {
      "text/plain": [
       "==========================================================================================\n",
       "Layer (type:depth-idx)                   Output Shape              Param #\n",
       "==========================================================================================\n",
       "├─Sequential: 1-1                        [-1, 512, 7, 7]           --\n",
       "|    └─Conv2d: 2-1                       [-1, 64, 224, 224]        (1,792)\n",
       "|    └─ReLU: 2-2                         [-1, 64, 224, 224]        --\n",
       "|    └─Conv2d: 2-3                       [-1, 64, 224, 224]        (36,928)\n",
       "|    └─ReLU: 2-4                         [-1, 64, 224, 224]        --\n",
       "|    └─MaxPool2d: 2-5                    [-1, 64, 112, 112]        --\n",
       "|    └─Conv2d: 2-6                       [-1, 128, 112, 112]       (73,856)\n",
       "|    └─ReLU: 2-7                         [-1, 128, 112, 112]       --\n",
       "|    └─Conv2d: 2-8                       [-1, 128, 112, 112]       (147,584)\n",
       "|    └─ReLU: 2-9                         [-1, 128, 112, 112]       --\n",
       "|    └─MaxPool2d: 2-10                   [-1, 128, 56, 56]         --\n",
       "|    └─Conv2d: 2-11                      [-1, 256, 56, 56]         (295,168)\n",
       "|    └─ReLU: 2-12                        [-1, 256, 56, 56]         --\n",
       "|    └─Conv2d: 2-13                      [-1, 256, 56, 56]         (590,080)\n",
       "|    └─ReLU: 2-14                        [-1, 256, 56, 56]         --\n",
       "|    └─Conv2d: 2-15                      [-1, 256, 56, 56]         (590,080)\n",
       "|    └─ReLU: 2-16                        [-1, 256, 56, 56]         --\n",
       "|    └─MaxPool2d: 2-17                   [-1, 256, 28, 28]         --\n",
       "|    └─Conv2d: 2-18                      [-1, 512, 28, 28]         (1,180,160)\n",
       "|    └─ReLU: 2-19                        [-1, 512, 28, 28]         --\n",
       "|    └─Conv2d: 2-20                      [-1, 512, 28, 28]         (2,359,808)\n",
       "|    └─ReLU: 2-21                        [-1, 512, 28, 28]         --\n",
       "|    └─Conv2d: 2-22                      [-1, 512, 28, 28]         (2,359,808)\n",
       "|    └─ReLU: 2-23                        [-1, 512, 28, 28]         --\n",
       "|    └─MaxPool2d: 2-24                   [-1, 512, 14, 14]         --\n",
       "|    └─Conv2d: 2-25                      [-1, 512, 14, 14]         (2,359,808)\n",
       "|    └─ReLU: 2-26                        [-1, 512, 14, 14]         --\n",
       "|    └─Conv2d: 2-27                      [-1, 512, 14, 14]         (2,359,808)\n",
       "|    └─ReLU: 2-28                        [-1, 512, 14, 14]         --\n",
       "|    └─Conv2d: 2-29                      [-1, 512, 14, 14]         (2,359,808)\n",
       "|    └─ReLU: 2-30                        [-1, 512, 14, 14]         --\n",
       "|    └─MaxPool2d: 2-31                   [-1, 512, 7, 7]           --\n",
       "├─AdaptiveAvgPool2d: 1-2                 [-1, 512, 1, 1]           --\n",
       "├─Sequential: 1-3                        [-1, 12]                  --\n",
       "|    └─Flatten: 2-32                     [-1, 512]                 --\n",
       "|    └─Linear: 2-33                      [-1, 128]                 65,664\n",
       "|    └─ReLU: 2-34                        [-1, 128]                 --\n",
       "|    └─Dropout: 2-35                     [-1, 128]                 --\n",
       "|    └─Linear: 2-36                      [-1, 12]                  1,548\n",
       "|    └─Softmax: 2-37                     [-1, 12]                  --\n",
       "==========================================================================================\n",
       "Total params: 14,781,900\n",
       "Trainable params: 67,212\n",
       "Non-trainable params: 14,714,688\n",
       "Total mult-adds (G): 15.36\n",
       "==========================================================================================\n",
       "Input size (MB): 0.57\n",
       "Forward/backward pass size (MB): 103.36\n",
       "Params size (MB): 56.39\n",
       "Estimated Total Size (MB): 160.32\n",
       "=========================================================================================="
      ]
     },
     "execution_count": 37,
     "metadata": {},
     "output_type": "execute_result"
    }
   ],
   "source": [
    "!pip install torch_summary\n",
    "from torchsummary import summary\n",
    "model, criterion, optimizer = get_model()\n",
    "summary(model, torch.zeros(1,3,224,224))"
   ]
  },
  {
   "cell_type": "code",
   "execution_count": 38,
   "metadata": {
    "executionInfo": {
     "elapsed": 11,
     "status": "ok",
     "timestamp": 1730660894976,
     "user": {
      "displayName": "Rubens Kaiserman",
      "userId": "17962754371974246128"
     },
     "user_tz": 180
    },
    "id": "qNPubA3-N6pD"
   },
   "outputs": [],
   "source": [
    "def train_batch(x, y, model, opt, loss_fn):\n",
    "  model.train()\n",
    "  prediction = model(x)\n",
    "  batch_loss = loss_fn(prediction, y)\n",
    "  batch_loss.backward()\n",
    "  optimizer.step()\n",
    "  optimizer.zero_grad()\n",
    "  return batch_loss.item()"
   ]
  },
  {
   "cell_type": "code",
   "execution_count": 39,
   "metadata": {
    "executionInfo": {
     "elapsed": 10,
     "status": "ok",
     "timestamp": 1730660894976,
     "user": {
      "displayName": "Rubens Kaiserman",
      "userId": "17962754371974246128"
     },
     "user_tz": 180
    },
    "id": "GfaenL2AN-G1"
   },
   "outputs": [],
   "source": [
    "@torch.no_grad()\n",
    "def accuracy(x, y, model):\n",
    "  model.eval()\n",
    "  prediction = model(x)\n",
    "  predicted_labels = torch.argmax(prediction, dim=1)\n",
    "  labels = torch.argmax(y, dim=1)\n",
    "  is_correct = predicted_labels == labels\n",
    "  \n",
    "  return is_correct.cpu().numpy().tolist()"
   ]
  },
  {
   "cell_type": "code",
   "execution_count": 40,
   "metadata": {
    "executionInfo": {
     "elapsed": 11,
     "status": "ok",
     "timestamp": 1730660894977,
     "user": {
      "displayName": "Rubens Kaiserman",
      "userId": "17962754371974246128"
     },
     "user_tz": 180
    },
    "id": "8J529JtJN_VP"
   },
   "outputs": [],
   "source": [
    "def get_data():\n",
    "  train = Wonders(train_data)\n",
    "  trn_dl = DataLoader(train, batch_size=32, shuffle=True, \\\n",
    "  drop_last = True)\n",
    "  # test_ = Wonders(test_data)\n",
    "  # test_dl = DataLoader(test_, batch_size=32, shuffle=True, \\\n",
    "  # drop_last = True)\n",
    "  val = Wonders(test_data)\n",
    "  val_dl = DataLoader(val, batch_size=32, shuffle=True, drop_last = True)\n",
    "  return trn_dl, val_dl"
   ]
  },
  {
   "cell_type": "code",
   "execution_count": 41,
   "metadata": {
    "executionInfo": {
     "elapsed": 2018,
     "status": "ok",
     "timestamp": 1730660896986,
     "user": {
      "displayName": "Rubens Kaiserman",
      "userId": "17962754371974246128"
     },
     "user_tz": 180
    },
    "id": "qpp9QnBaUXxu"
   },
   "outputs": [],
   "source": [
    "trn_dl, val_dl = get_data()\n",
    "model, loss_fn, optimizer = get_model()"
   ]
  },
  {
   "cell_type": "code",
   "execution_count": 42,
   "metadata": {
    "colab": {
     "base_uri": "https://localhost:8080/"
    },
    "executionInfo": {
     "elapsed": 462221,
     "status": "ok",
     "timestamp": 1730661359200,
     "user": {
      "displayName": "Rubens Kaiserman",
      "userId": "17962754371974246128"
     },
     "user_tz": 180
    },
    "id": "iINQdznAOJFm",
    "outputId": "12bfcff1-6e5b-4f2d-e6e7-554f4ebfa89c"
   },
   "outputs": [
    {
     "name": "stdout",
     "output_type": "stream",
     "text": [
      " epoch 1/5\n",
      " epoch 2/5\n",
      " epoch 3/5\n",
      " epoch 4/5\n",
      " epoch 5/5\n",
      " epoch 6/5\n",
      " epoch 7/5\n",
      " epoch 8/5\n",
      " epoch 9/5\n",
      " epoch 10/5\n"
     ]
    }
   ],
   "source": [
    "train_losses, train_accuracies = [], []\n",
    "val_accuracies = []\n",
    "for epoch in range(10):\n",
    "  print(f\" epoch {epoch + 1}/5\")\n",
    "  train_epoch_losses, train_epoch_accuracies = [], []\n",
    "  val_epoch_accuracies = []\n",
    "  for ix, batch in enumerate(iter(trn_dl)):\n",
    "    x, y = batch\n",
    "\n",
    "    batch_loss = train_batch(x, y, model, optimizer, loss_fn)\n",
    "    train_epoch_losses.append(batch_loss)\n",
    "  train_epoch_loss = np.array(train_epoch_losses).mean()\n",
    "\n",
    "  for ix, batch in enumerate(iter(trn_dl)):\n",
    "    x, y = batch\n",
    "    is_correct = accuracy(x, y, model)\n",
    "    train_epoch_accuracies.extend(is_correct)\n",
    "  train_epoch_accuracy = np.mean(train_epoch_accuracies)\n",
    "\n",
    "  for ix, batch in enumerate(iter(val_dl)):\n",
    "    x, y = batch\n",
    "    val_is_correct = accuracy(x, y, model)\n",
    "    val_epoch_accuracies.extend(val_is_correct)\n",
    "  val_epoch_accuracy = np.mean(val_epoch_accuracies)\n",
    "\n",
    "  train_losses.append(train_epoch_loss)\n",
    "  train_accuracies.append(train_epoch_accuracy)\n",
    "  val_accuracies.append(val_epoch_accuracy)"
   ]
  },
  {
   "cell_type": "code",
   "execution_count": 45,
   "metadata": {
    "colab": {
     "base_uri": "https://localhost:8080/",
     "height": 0
    },
    "executionInfo": {
     "elapsed": 19,
     "status": "ok",
     "timestamp": 1730661359200,
     "user": {
      "displayName": "Rubens Kaiserman",
      "userId": "17962754371974246128"
     },
     "user_tz": 180
    },
    "id": "C8RScY3SbmnA",
    "outputId": "35942db3-355d-47c6-da99-d51af00556ff"
   },
   "outputs": [
    {
     "name": "stderr",
     "output_type": "stream",
     "text": [
      "/tmp/ipykernel_76030/136565074.py:16: UserWarning: set_ticklabels() should only be used with a fixed number of ticks, i.e. after set_ticks() or using a FixedLocator.\n",
      "  plt.gca().set_yticklabels(['{:.0f}%'.format(x*100) \\\n"
     ]
    },
    {
     "data": {
      "image/png": "[encoded data removed]",
      "text/plain": [
       "<Figure size 640x480 with 1 Axes>"
      ]
     },
     "metadata": {},
     "output_type": "display_data"
    }
   ],
   "source": [
    "epochs = np.arange(10)+1\n",
    "import matplotlib.ticker as mtick\n",
    "import matplotlib.pyplot as plt\n",
    "import matplotlib.ticker as mticker\n",
    "%matplotlib inline\n",
    "plt.plot(epochs, train_accuracies, 'bo',\n",
    "label='Training accuracy')\n",
    "plt.plot(epochs, val_accuracies, 'r',\n",
    "label='Validation accuracy')\n",
    "plt.gca().xaxis.set_major_locator(mticker.MultipleLocator(1))\n",
    "plt.title('Training and validation accuracy \\\n",
    "with VGG16 \\nand 1K training data points for classification of the wonders of the world')\n",
    "plt.xlabel('Epochs')\n",
    "plt.ylabel('Accuracy')\n",
    "plt.ylim(0.8,1)\n",
    "plt.gca().set_yticklabels(['{:.0f}%'.format(x*100) \\\n",
    "for x in plt.gca().get_yticks()])\n",
    "plt.legend()\n",
    "plt.grid('off')\n",
    "plt.show()"
   ]
  }
 ],
 "metadata": {
  "accelerator": "GPU",
  "colab": {
   "authorship_tag": "ABX9TyOiJqb6Oy9Chj09KgpChNip",
   "gpuType": "T4",
   "provenance": []
  },
  "kernelspec": {
   "display_name": "venv",
   "language": "python",
   "name": "python3"
  },
  "language_info": {
   "codemirror_mode": {
    "name": "ipython",
    "version": 3
   },
   "file_extension": ".py",
   "mimetype": "text/x-python",
   "name": "python",
   "nbconvert_exporter": "python",
   "pygments_lexer": "ipython3",
   "version": "3.12.3"
  }
 },
 "nbformat": 4,
 "nbformat_minor": 0
}
